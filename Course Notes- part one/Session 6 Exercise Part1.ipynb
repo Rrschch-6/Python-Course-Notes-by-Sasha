{
 "cells": [
  {
   "cell_type": "markdown",
   "metadata": {},
   "source": [
    "Exercise#1"
   ]
  },
  {
   "cell_type": "markdown",
   "metadata": {},
   "source": [
    "با استفاده از توابع، برنامه یی  بنویسید که عددی را از ورودی خوانده،میانگین ارقام زوج و فرد آن را نمایش دهد،به عنوان مثال اگر عدد ۲۵۶۹ باشد، میانگین ارقام فرد آن ۷ و میانگین ارقام زوج آن ۴ میباشد"
   ]
  },
  {
   "cell_type": "code",
   "execution_count": 1,
   "metadata": {},
   "outputs": [
    {
     "name": "stdout",
     "output_type": "stream",
     "text": [
      "Enter your number:2345\n",
      "Even Average is 3.0\n",
      "Odd Average is 4.0\n"
     ]
    }
   ],
   "source": [
    "def ave_digit(n):\n",
    "    count1=0\n",
    "    count2=0\n",
    "    sum1=0\n",
    "    sum2=0\n",
    "    \n",
    "    while n>0:\n",
    "        digit=n%10\n",
    "        if n%2==0:\n",
    "            count1+=1\n",
    "            sum1+=digit\n",
    "        \n",
    "        else:\n",
    "            count2+=1\n",
    "            sum2+=digit\n",
    "        \n",
    "        n//=10\n",
    "    \n",
    "    if count1>0:\n",
    "        print(f'Even Average is {sum1/count1}')\n",
    "    if count2>0:\n",
    "        print(f'Odd Average is {sum2/count2}')\n",
    "\n",
    "x=int(input('Enter your number:'))\n",
    "ave_digit(x)"
   ]
  },
  {
   "cell_type": "markdown",
   "metadata": {},
   "source": [
    "Exercise#2"
   ]
  },
  {
   "cell_type": "markdown",
   "metadata": {},
   "source": [
    "تابع یی بسازید که با فراخوانی آن، کلیه اعداد ۳ رقمی‌ که با ۱ و ۲ و ۳ تولید میشوند را نمایش دهد"
   ]
  },
  {
   "cell_type": "code",
   "execution_count": 2,
   "metadata": {},
   "outputs": [
    {
     "name": "stdout",
     "output_type": "stream",
     "text": [
      " 111 112 113 121 122 123 131 132 133 211 212 213 221 222 223 231 232 233 311 312 313 321 322 323 331 332 333"
     ]
    }
   ],
   "source": [
    "for i in range(1,4):\n",
    "    for j in range(1,4):\n",
    "        for k in range(1,4):\n",
    "            print(\"\",i*100+j*10+k*1,end=\"\")"
   ]
  },
  {
   "cell_type": "markdown",
   "metadata": {},
   "source": [
    "Exercise#3"
   ]
  },
  {
   "cell_type": "markdown",
   "metadata": {},
   "source": [
    "برنامه‌ای که عددی بین ۱ و ۸۰ از ورودی خوانده،خروجی زیر را نمایش میدهد. به عنوان مثال اگر عدد ورودی برابر با ۵ باشد،باشد خروجی به صورت زیر خواهد بود"
   ]
  },
  {
   "cell_type": "code",
   "execution_count": null,
   "metadata": {},
   "outputs": [],
   "source": [
    "* * * * *\n",
    "* * * * *\n",
    "* * * * *\n",
    "* * * * *"
   ]
  },
  {
   "cell_type": "code",
   "execution_count": 3,
   "metadata": {},
   "outputs": [
    {
     "name": "stdout",
     "output_type": "stream",
     "text": [
      "Enter your number:5\n",
      "* * * * * \n",
      "\n",
      "* * * * * \n",
      "\n",
      "* * * * * \n",
      "\n",
      "* * * * * \n",
      "\n"
     ]
    }
   ],
   "source": [
    "x=int(input('Enter your number:'))\n",
    "if 1<=x<=80:\n",
    "    for i in range(1,x):\n",
    "        for j in range(1,x+1):\n",
    "            print('*',end=\" \")\n",
    "        print('\\n')\n",
    "else:\n",
    "    print('The entered number is out of range')\n"
   ]
  },
  {
   "cell_type": "markdown",
   "metadata": {},
   "source": [
    "Exercise#4"
   ]
  },
  {
   "cell_type": "markdown",
   "metadata": {},
   "source": [
    "برنامه یی که تعدادی عدد را از ورودی خوانده و تشخیص میدهد که عدد خوانده شده شامل صفر است یا خیر. برای خروج از برنامه کاربر باید عدد -۱ را وارد کند"
   ]
  },
  {
   "cell_type": "code",
   "execution_count": 4,
   "metadata": {},
   "outputs": [
    {
     "name": "stdout",
     "output_type": "stream",
     "text": [
      "Enter your number:2345\n",
      "No\n",
      "Enter your number:2301\n",
      "yes\n",
      "Enter your number:-1\n"
     ]
    }
   ],
   "source": [
    "while True:\n",
    "    count=0\n",
    "    num=int(input('Enter your number:'))\n",
    "    if num==-1:\n",
    "        break\n",
    "    while num>0:\n",
    "        if num%10==0:\n",
    "            print('yes')\n",
    "            count+=1\n",
    "            break\n",
    "        num//=10\n",
    "    if count==0:\n",
    "        print('No')\n",
    "        \n",
    "            "
   ]
  },
  {
   "cell_type": "markdown",
   "metadata": {},
   "source": [
    "Exersice#5"
   ]
  },
  {
   "cell_type": "markdown",
   "metadata": {},
   "source": [
    "برنامهای که تعداد سطر‌ها را خوانده و حاصل خروجی زیر را چاپ می‌کند.برای تعداد سطر چهار، خروجی به صورت زیر است"
   ]
  },
  {
   "cell_type": "code",
   "execution_count": null,
   "metadata": {},
   "outputs": [],
   "source": [
    "1\n",
    "2 3\n",
    "4 5 6"
   ]
  },
  {
   "cell_type": "code",
   "execution_count": 6,
   "metadata": {},
   "outputs": [
    {
     "name": "stdout",
     "output_type": "stream",
     "text": [
      "Number of rows:4\n",
      "\n",
      "\n",
      "1\t\n",
      "\n",
      "2\t3\t\n",
      "\n",
      "4\t5\t6\t\n",
      "\n"
     ]
    }
   ],
   "source": [
    "k=1\n",
    "row=int(input('Number of rows:'))\n",
    "for i in range (1,row+1,1):\n",
    "    for j in range(1,i,1):\n",
    "        print(k,end='\\t')\n",
    "        k+=1\n",
    "    print('\\n')"
   ]
  },
  {
   "cell_type": "markdown",
   "metadata": {},
   "source": [
    "Excercise#6"
   ]
  },
  {
   "cell_type": "markdown",
   "metadata": {},
   "source": [
    "برنامه‌ای که یک عدد و یک رقم را از ورودی میخواند،با استفاده از تابعی تعداد تکرار آن عدد در آن رقم را برگردند. برنامه را با استفاده از دو تابع یکی‌ برای شمارش و دیگری برای دریافت عدد از کاربر بنویسید"
   ]
  },
  {
   "cell_type": "code",
   "execution_count": 7,
   "metadata": {},
   "outputs": [
    {
     "name": "stdout",
     "output_type": "stream",
     "text": [
      "Enter your number:2345\n",
      "Enter the digit to search:2\n",
      "2345 contains 1 number of 2s\n"
     ]
    }
   ],
   "source": [
    "def repeat(num,n):\n",
    "    count=0\n",
    "    while num>0:\n",
    "        if num%10==n:\n",
    "            count+=1\n",
    "        num//=10\n",
    "    return count\n",
    "\n",
    "def main():\n",
    "    num=int(input('Enter your number:'))\n",
    "    n=int(input('Enter the digit to search:'))\n",
    "    print(f'{num} contains {repeat(num,n)} number of {n}s')\n",
    "\n",
    "main()"
   ]
  },
  {
   "cell_type": "markdown",
   "metadata": {},
   "source": [
    "Exercise#7"
   ]
  },
  {
   "cell_type": "markdown",
   "metadata": {},
   "source": [
    "برنامه‌ای که فاکتوریل یک عدد را بدون استفاده از حلقه و با استفاده از تابع بازگشتی محاسبه کند"
   ]
  },
  {
   "cell_type": "code",
   "execution_count": 8,
   "metadata": {},
   "outputs": [
    {
     "name": "stdout",
     "output_type": "stream",
     "text": [
      "Input a number to compute the factiorial : 4\n",
      "24\n"
     ]
    }
   ],
   "source": [
    "def factorial(n):\n",
    "    if n == 0:\n",
    "        return 1\n",
    "    else:\n",
    "        return n * factorial(n-1)\n",
    "n=int(input(\"Input a number to compute the factiorial : \"))\n",
    "print(factorial(n))"
   ]
  },
  {
   "cell_type": "markdown",
   "metadata": {},
   "source": [
    "Exercise#8"
   ]
  },
  {
   "cell_type": "markdown",
   "metadata": {},
   "source": [
    "برنامه‌ای که قیمت کالا و درصد تخفیف را دریافت کرده و به تابع‌ای میفرستد. این تابع مقدار نهائی را محاسبه کرده و در تابع اصلی‌ نمایش میدهد"
   ]
  },
  {
   "cell_type": "code",
   "execution_count": 9,
   "metadata": {},
   "outputs": [
    {
     "name": "stdout",
     "output_type": "stream",
     "text": [
      "Enter Price:2000\n",
      "Enter Rate:10\n",
      "Your final price is:200.0\n"
     ]
    }
   ],
   "source": [
    "def calculate(price,rate):\n",
    "    return price*rate/100\n",
    "def main():\n",
    "    price=int(input('Enter Price:'))\n",
    "    rate=int(input('Enter Rate:'))\n",
    "    print(f'Your final price is:{calculate(price,rate)}')\n",
    "\n",
    "main()"
   ]
  },
  {
   "cell_type": "markdown",
   "metadata": {},
   "source": [
    "Excercise#9"
   ]
  },
  {
   "cell_type": "markdown",
   "metadata": {},
   "source": [
    "برنامه‌ای که توسط یک تابع دو عدد را از ورودی دریافت می‌کند و به تابع دیگر میفرستد، تابع دوم تمام اعداد فرد بین این دو عدد را نمایش میدهد.در این برنامه از دو تابع زیر استفاده کنید"
   ]
  },
  {
   "cell_type": "code",
   "execution_count": null,
   "metadata": {},
   "outputs": [],
   "source": [
    "#Main():\n",
    "    #for prompting numbers from user\n",
    "#Display(): \n",
    "    #for finding and displaying numbers"
   ]
  },
  {
   "cell_type": "code",
   "execution_count": 10,
   "metadata": {},
   "outputs": [
    {
     "name": "stdout",
     "output_type": "stream",
     "text": [
      "Enter start number:2\n",
      "Enter End number:10\n",
      "  3  5  7  9"
     ]
    }
   ],
   "source": [
    "def Display(x,y):\n",
    "    for i in range(x,y+1):\n",
    "        if i%2!=0:\n",
    "            print(\" \",i,end='')\n",
    "            \n",
    "def main():\n",
    "    x=int(input('Enter start number:'))\n",
    "    y=int(input('Enter End number:'))\n",
    "    Display(x,y)\n",
    "\n",
    "main()"
   ]
  },
  {
   "cell_type": "markdown",
   "metadata": {},
   "source": [
    "Excersice#10"
   ]
  },
  {
   "cell_type": "markdown",
   "metadata": {},
   "source": [
    "برنامه‌ای که یک جمله و یک کلمه را از ورودی میخواند و به یک تابع میفرستد. تابع کلمات ۴ حرفی‌ را با کلمه وارد شده جایگزین می‌کند."
   ]
  },
  {
   "cell_type": "code",
   "execution_count": 11,
   "metadata": {},
   "outputs": [
    {
     "name": "stdout",
     "output_type": "stream",
     "text": [
      "Enter the Sentence:I hate you\n",
      "Enter the word to replacelove\n",
      "I love you \n"
     ]
    }
   ],
   "source": [
    "def replace_word(sentence,key):\n",
    "    list=sentence.split()\n",
    "    s=\"\"\n",
    "    for i in list:\n",
    "        if len(i)==4:\n",
    "            s=s+key\n",
    "        else:\n",
    "            s=s+i\n",
    "        s+=' '\n",
    "    return s\n",
    "\n",
    "def main():\n",
    "    sentence=input('Enter the Sentence:')\n",
    "    key=input('Enter the word to replace')\n",
    "    print(replace_word(sentence,key))\n",
    "\n",
    "main()\n",
    "            "
   ]
  },
  {
   "cell_type": "code",
   "execution_count": null,
   "metadata": {},
   "outputs": [],
   "source": []
  },
  {
   "cell_type": "code",
   "execution_count": null,
   "metadata": {},
   "outputs": [],
   "source": []
  },
  {
   "cell_type": "code",
   "execution_count": null,
   "metadata": {},
   "outputs": [],
   "source": []
  },
  {
   "cell_type": "code",
   "execution_count": null,
   "metadata": {},
   "outputs": [],
   "source": []
  },
  {
   "cell_type": "code",
   "execution_count": null,
   "metadata": {},
   "outputs": [],
   "source": [
    "class sphere:\n",
    "    PI=3.14\n",
    "    def __init__(self,r):\n",
    "        if r>0:\n",
    "            self.r=r\n",
    "        else:\n",
    "            self.r=0\n",
    "    def vol(self,r):\n",
    "        return 4/3*sphere.PI*self.r**3\n",
    "    def area(self):\n",
    "        return 4*sphere.PI*self.r**2\n",
    "\n",
    "S=sphere(10)\n",
    "print(S.vol())"
   ]
  },
  {
   "cell_type": "code",
   "execution_count": 1,
   "metadata": {},
   "outputs": [
    {
     "data": {
      "text/plain": [
       "43"
      ]
     },
     "execution_count": 1,
     "metadata": {},
     "output_type": "execute_result"
    }
   ],
   "source": [
    "432//10"
   ]
  },
  {
   "cell_type": "code",
   "execution_count": 2,
   "metadata": {},
   "outputs": [
    {
     "data": {
      "text/plain": [
       "3"
      ]
     },
     "execution_count": 2,
     "metadata": {},
     "output_type": "execute_result"
    }
   ],
   "source": [
    "32//10\n"
   ]
  },
  {
   "cell_type": "code",
   "execution_count": 5,
   "metadata": {},
   "outputs": [
    {
     "data": {
      "text/plain": [
       "10"
      ]
     },
     "execution_count": 5,
     "metadata": {},
     "output_type": "execute_result"
    }
   ],
   "source": [
    "100//10"
   ]
  },
  {
   "cell_type": "code",
   "execution_count": 6,
   "metadata": {},
   "outputs": [
    {
     "data": {
      "text/plain": [
       "0"
      ]
     },
     "execution_count": 6,
     "metadata": {},
     "output_type": "execute_result"
    }
   ],
   "source": [
    "4//10"
   ]
  },
  {
   "cell_type": "code",
   "execution_count": null,
   "metadata": {},
   "outputs": [],
   "source": []
  }
 ],
 "metadata": {
  "kernelspec": {
   "display_name": "Python 3",
   "language": "python",
   "name": "python3"
  },
  "language_info": {
   "codemirror_mode": {
    "name": "ipython",
    "version": 3
   },
   "file_extension": ".py",
   "mimetype": "text/x-python",
   "name": "python",
   "nbconvert_exporter": "python",
   "pygments_lexer": "ipython3",
   "version": "3.8.3"
  }
 },
 "nbformat": 4,
 "nbformat_minor": 4
}
